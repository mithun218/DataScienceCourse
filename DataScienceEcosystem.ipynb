{
 "cells": [
  {
   "cell_type": "markdown",
   "id": "4b12909a-fd77-47b8-85b3-1f900ab906e1",
   "metadata": {},
   "source": [
    "# Science Tools and Ecosystem #"
   ]
  },
  {
   "cell_type": "markdown",
   "id": "21cb0261-1e4c-4f99-b6f3-52f50f709778",
   "metadata": {},
   "source": [
    "In this notebook, Data Science Tools and Ecosystem are summarized."
   ]
  },
  {
   "cell_type": "markdown",
   "id": "314a8adb-bd66-4af6-8ddb-cd20d7fa0578",
   "metadata": {},
   "source": [
    "Some of the popular languages that Data Scientists use are:\n",
    "1. R\n",
    "2. Python\n",
    "3. Java\n",
    "4. C++"
   ]
  },
  {
   "cell_type": "markdown",
   "id": "e4453ca9-6acc-4295-acef-eb4b6432b45c",
   "metadata": {},
   "source": [
    "Some of the commonly used libraries used by Data Scientists include:\n",
    "1. Pandas\n",
    "2. NumPy\n",
    "3. ggplot2\n",
    "4. Matplotlib"
   ]
  },
  {
   "cell_type": "markdown",
   "id": "4b8839e5-759a-47d2-9ebb-2f72d493dee6",
   "metadata": {},
   "source": [
    "|Data Science Tools|\n",
    "|-------------|\n",
    "|ApacheSpark|\n",
    "|MongoDB|\n",
    "|RStudio|"
   ]
  },
  {
   "cell_type": "markdown",
   "id": "a8a88a3d-c48b-45ab-be22-f738539b2140",
   "metadata": {},
   "source": [
    "### Below are a few examples of evaluating arithmetic expressions in Python. ###"
   ]
  },
  {
   "cell_type": "code",
   "execution_count": 6,
   "id": "a5263d2b-db64-4a8e-add6-0801ae080418",
   "metadata": {},
   "outputs": [
    {
     "data": {
      "text/plain": [
       "17"
      ]
     },
     "execution_count": 6,
     "metadata": {},
     "output_type": "execute_result"
    }
   ],
   "source": [
    "# This a simple arithmetic expression to multiply then add integers.\n",
    "(3*4)+5"
   ]
  },
  {
   "cell_type": "code",
   "execution_count": 5,
   "id": "90f4d164-9bdc-437d-b626-558c8fe4a6e0",
   "metadata": {},
   "outputs": [
    {
     "data": {
      "text/plain": [
       "3.3333333333333335"
      ]
     },
     "execution_count": 5,
     "metadata": {},
     "output_type": "execute_result"
    }
   ],
   "source": [
    "# This will convert 200 minutes to hours by diving by 60.\n",
    "200/60"
   ]
  },
  {
   "cell_type": "markdown",
   "id": "c00120e1-1a61-44af-b347-f1fe4463b208",
   "metadata": {},
   "source": [
    "**Objectives:**\n",
    "* List popular languages for Data Science.\n",
    "* List popular libraries for data science.\n",
    "* List popular tools for Data Science.\n",
    "* Shows a few examples of evaluating arithmetic expressions in Python."
   ]
  },
  {
   "cell_type": "markdown",
   "id": "a5a40b0f-1228-4d9d-be5b-06d95318883b",
   "metadata": {},
   "source": [
    "## Author ## \n",
    "Mithun Bairagi"
   ]
  },
  {
   "cell_type": "code",
   "execution_count": null,
   "id": "21ba3f97-4568-4139-abcb-550d97215ecc",
   "metadata": {},
   "outputs": [],
   "source": []
  }
 ],
 "metadata": {
  "kernelspec": {
   "display_name": "Python 3 (ipykernel)",
   "language": "python",
   "name": "python3"
  },
  "language_info": {
   "codemirror_mode": {
    "name": "ipython",
    "version": 3
   },
   "file_extension": ".py",
   "mimetype": "text/x-python",
   "name": "python",
   "nbconvert_exporter": "python",
   "pygments_lexer": "ipython3",
   "version": "3.12.8"
  }
 },
 "nbformat": 4,
 "nbformat_minor": 5
}
